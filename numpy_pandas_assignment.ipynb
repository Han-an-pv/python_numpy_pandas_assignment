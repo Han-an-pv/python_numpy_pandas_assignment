{
 "cells": [
  {
   "cell_type": "markdown",
   "id": "7bc2d88f-2caa-4d61-9a66-3288c81a6b44",
   "metadata": {},
   "source": [
    "# Exercise 1:\n"
   ]
  },
  {
   "cell_type": "code",
   "execution_count": null,
   "id": "0518b1d0-2b28-47e5-871c-1a6a3d053cde",
   "metadata": {},
   "outputs": [],
   "source": [
    "# Create a numpy array containing the numbers from 1 to 10, and then reshape it to a 2x5 matrix."
   ]
  },
  {
   "cell_type": "code",
   "execution_count": 2,
   "id": "a0247265-4b6b-4ccb-b386-563eb716fe50",
   "metadata": {},
   "outputs": [],
   "source": [
    "import numpy as np"
   ]
  },
  {
   "cell_type": "code",
   "execution_count": 5,
   "id": "f3ef6990-f0db-4721-afd5-40b4ad7c91e2",
   "metadata": {},
   "outputs": [
    {
     "name": "stdout",
     "output_type": "stream",
     "text": [
      "[[ 1  2  3  4  5]\n",
      " [ 6  7  8  9 10]]\n"
     ]
    }
   ],
   "source": [
    "array1 = np.arange(1, 11)\n",
    "reshaped_array = array1.reshape(2, 5)\n",
    "print(reshaped_array)"
   ]
  },
  {
   "cell_type": "markdown",
   "id": "62fc9535-06c9-4d8b-820e-f0a491aef239",
   "metadata": {},
   "source": [
    "# Exercise 2:"
   ]
  },
  {
   "cell_type": "code",
   "execution_count": null,
   "id": "ea64ac23-7409-4fba-a80e-6fcc864674b3",
   "metadata": {},
   "outputs": [],
   "source": [
    "# Create a numpy array containing the numbers from 1 to 20, and then extract the elements between the 5th and 15th index."
   ]
  },
  {
   "cell_type": "code",
   "execution_count": 6,
   "id": "b9857015-9516-48b3-a41c-d5fb756c2003",
   "metadata": {},
   "outputs": [
    {
     "name": "stdout",
     "output_type": "stream",
     "text": [
      "[ 6  7  8  9 10 11 12 13 14 15]\n"
     ]
    }
   ],
   "source": [
    "array2=np.arange(1,21)\n",
    "extracted_elements = array2[5:15]\n",
    "print(extracted_elements)"
   ]
  },
  {
   "cell_type": "markdown",
   "id": "21c1c573-52c6-439e-946e-384f3e29aa2a",
   "metadata": {},
   "source": [
    "# Exercise 3:"
   ]
  },
  {
   "cell_type": "code",
   "execution_count": null,
   "id": "58031084-e14e-4af3-9c3a-2565c163caa0",
   "metadata": {},
   "outputs": [],
   "source": [
    "# Create a Pandas series with the following data: {'apples': 3, 'bananas': 2, 'oranges': 1}. Then, add a new item to the series with the key 'pears' \n",
    "# and the value 4."
   ]
  },
  {
   "cell_type": "code",
   "execution_count": 7,
   "id": "ac17b1a1-cfd1-4b6e-9b6d-3d52885a6e84",
   "metadata": {},
   "outputs": [],
   "source": [
    "import pandas as pd"
   ]
  },
  {
   "cell_type": "code",
   "execution_count": 17,
   "id": "6a31fea5-71de-4fd4-b072-5bee54c4dfa6",
   "metadata": {},
   "outputs": [
    {
     "data": {
      "text/plain": [
       "apples     3\n",
       "bananas    2\n",
       "oranges    1\n",
       "dtype: int64"
      ]
     },
     "execution_count": 17,
     "metadata": {},
     "output_type": "execute_result"
    }
   ],
   "source": [
    "fruits = pd.Series({'apples': 3, 'bananas': 2, 'oranges': 1})\n",
    "fruits"
   ]
  },
  {
   "cell_type": "code",
   "execution_count": 19,
   "id": "440e330b-a5b8-4f80-a52b-7bc204b747e5",
   "metadata": {},
   "outputs": [
    {
     "name": "stdout",
     "output_type": "stream",
     "text": [
      "Updated Series:\n",
      "apples     3\n",
      "bananas    2\n",
      "oranges    1\n",
      "pears      4\n",
      "dtype: int64\n"
     ]
    }
   ],
   "source": [
    "fruits['pears'] = 4\n",
    "print(\"Updated Series:\")\n",
    "print(fruits)"
   ]
  },
  {
   "cell_type": "markdown",
   "id": "378cd670-1add-4bc6-a810-09b34910c4b6",
   "metadata": {},
   "source": [
    "# Exercise 4:"
   ]
  },
  {
   "cell_type": "code",
   "execution_count": null,
   "id": "c682298c-d426-4fbb-bce1-4b936d41a2c6",
   "metadata": {},
   "outputs": [],
   "source": [
    "# Create a dataframe with the following columns: name, age, and gender. The dataframe should have 10 rows of data. "
   ]
  },
  {
   "cell_type": "code",
   "execution_count": 20,
   "id": "f4fc3630-a3dc-44ec-86f4-eb8c826b91a6",
   "metadata": {},
   "outputs": [
    {
     "name": "stdout",
     "output_type": "stream",
     "text": [
      "DataFrame:\n",
      "      name  age  gender\n",
      "0    Alice   25  Female\n",
      "1      Bob   30    Male\n",
      "2  Charlie   22    Male\n",
      "3    Diana   28  Female\n",
      "4      Eve   35  Female\n",
      "5    Frank   40    Male\n",
      "6    Grace   18  Female\n",
      "7   Hannah   27  Female\n",
      "8      Ian   24    Male\n",
      "9     Jack   33    Male\n"
     ]
    }
   ],
   "source": [
    "import pandas as pd\n",
    "\n",
    "data = {\n",
    "    'name': ['Alice', 'Bob', 'Charlie', 'Diana', 'Eve', \n",
    "             'Frank', 'Grace', 'Hannah', 'Ian', 'Jack'],\n",
    "    'age': [25, 30, 22, 28, 35, 40, 18, 27, 24, 33],\n",
    "    'gender': ['Female', 'Male', 'Male', 'Female', 'Female', \n",
    "               'Male', 'Female', 'Female', 'Male', 'Male']\n",
    "}\n",
    "\n",
    "# Create a DataFrame\n",
    "df = pd.DataFrame(data)\n",
    "\n",
    "# Print the DataFrame\n",
    "print(\"DataFrame:\")\n",
    "print(df)\n"
   ]
  },
  {
   "cell_type": "markdown",
   "id": "d1c65464-08ea-4e94-b02f-44b38858b363",
   "metadata": {},
   "source": [
    "# Exercise 5:"
   ]
  },
  {
   "cell_type": "code",
   "execution_count": null,
   "id": "87bbeedc-24dc-44ae-902e-ce5d4394c0f5",
   "metadata": {},
   "outputs": [],
   "source": [
    "# Add a new column to the data frame created in  above question , called occupation. The values for this column should be Programmer, Manager, and\n",
    "# Analyst, corresponding to the rows in the dataframe. "
   ]
  },
  {
   "cell_type": "code",
   "execution_count": 21,
   "id": "dea2a76e-e464-4c57-be58-067d5daac2b9",
   "metadata": {},
   "outputs": [
    {
     "name": "stdout",
     "output_type": "stream",
     "text": [
      "Updated DataFrame:\n",
      "      name  age  gender  occupation\n",
      "0    Alice   25  Female  Programmer\n",
      "1      Bob   30    Male     Manager\n",
      "2  Charlie   22    Male     Analyst\n",
      "3    Diana   28  Female  Programmer\n",
      "4      Eve   35  Female     Manager\n",
      "5    Frank   40    Male     Analyst\n",
      "6    Grace   18  Female  Programmer\n",
      "7   Hannah   27  Female     Manager\n",
      "8      Ian   24    Male     Analyst\n",
      "9     Jack   33    Male  Programmer\n"
     ]
    }
   ],
   "source": [
    "# Add a new column 'occupation' with cyclic values\n",
    "occupations = ['Programmer', 'Manager', 'Analyst']\n",
    "df['occupation'] = [occupations[i % len(occupations)] for i in range(len(df))]\n",
    "\n",
    "# Print the updated DataFrame\n",
    "print(\"Updated DataFrame:\")\n",
    "print(df)"
   ]
  },
  {
   "cell_type": "markdown",
   "id": "f3464c00-9394-4c01-8d5c-f90ae5a44ddc",
   "metadata": {},
   "source": [
    "# Exercise 6:"
   ]
  },
  {
   "cell_type": "code",
   "execution_count": null,
   "id": "20150c7f-5f70-4b54-97ea-89b091a47e68",
   "metadata": {},
   "outputs": [],
   "source": [
    "# Select the rows of the dataframe where the age is greater than or equal to 30. "
   ]
  },
  {
   "cell_type": "code",
   "execution_count": 22,
   "id": "2f125ce9-fe41-4bd0-bc52-1dc1214215a5",
   "metadata": {},
   "outputs": [
    {
     "name": "stdout",
     "output_type": "stream",
     "text": [
      "Rows where age is greater than or equal to 30:\n",
      "    name  age  gender  occupation\n",
      "1    Bob   30    Male     Manager\n",
      "4    Eve   35  Female     Manager\n",
      "5  Frank   40    Male     Analyst\n",
      "9   Jack   33    Male  Programmer\n"
     ]
    }
   ],
   "source": [
    "filtered_df = df[df['age'] >= 30]\n",
    "print(\"Rows where age is greater than or equal to 30:\")\n",
    "print(filtered_df)"
   ]
  },
  {
   "cell_type": "markdown",
   "id": "d66aefab-0b70-45dd-9560-1f130037895b",
   "metadata": {},
   "source": [
    "# Exercise 7:"
   ]
  },
  {
   "cell_type": "code",
   "execution_count": null,
   "id": "351442cc-4c8c-4ba4-a43c-c01fdd7e2446",
   "metadata": {},
   "outputs": [],
   "source": [
    "# Convert this dataframe to a csv file and read that csv file, finally display the contents."
   ]
  },
  {
   "cell_type": "code",
   "execution_count": 23,
   "id": "d5f576b0-ee80-4a57-8c1e-ed59f5251fc8",
   "metadata": {},
   "outputs": [
    {
     "name": "stdout",
     "output_type": "stream",
     "text": [
      "Contents of the CSV file:\n",
      "      name  age  gender  occupation\n",
      "0    Alice   25  Female  Programmer\n",
      "1      Bob   30    Male     Manager\n",
      "2  Charlie   22    Male     Analyst\n",
      "3    Diana   28  Female  Programmer\n",
      "4      Eve   35  Female     Manager\n",
      "5    Frank   40    Male     Analyst\n",
      "6    Grace   18  Female  Programmer\n",
      "7   Hannah   27  Female     Manager\n",
      "8      Ian   24    Male     Analyst\n",
      "9     Jack   33    Male  Programmer\n"
     ]
    }
   ],
   "source": [
    "csv_file = 'dataframe.csv'\n",
    "df.to_csv(csv_file, index=False)\n",
    "\n",
    "# Read the CSV file\n",
    "df_from_csv = pd.read_csv(csv_file)\n",
    "\n",
    "# Display the contents of the CSV file\n",
    "print(\"Contents of the CSV file:\")\n",
    "print(df_from_csv)"
   ]
  },
  {
   "cell_type": "code",
   "execution_count": null,
   "id": "2a2d3ff4-9f48-4943-ac83-3b389aa7f217",
   "metadata": {},
   "outputs": [],
   "source": []
  },
  {
   "cell_type": "code",
   "execution_count": null,
   "id": "be6abd96-e1da-4d9d-bb69-c1e1e755a931",
   "metadata": {},
   "outputs": [],
   "source": []
  }
 ],
 "metadata": {
  "kernelspec": {
   "display_name": "Python 3 (ipykernel)",
   "language": "python",
   "name": "python3"
  },
  "language_info": {
   "codemirror_mode": {
    "name": "ipython",
    "version": 3
   },
   "file_extension": ".py",
   "mimetype": "text/x-python",
   "name": "python",
   "nbconvert_exporter": "python",
   "pygments_lexer": "ipython3",
   "version": "3.12.7"
  }
 },
 "nbformat": 4,
 "nbformat_minor": 5
}
